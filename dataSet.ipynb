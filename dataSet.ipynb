{
  "nbformat": 4,
  "nbformat_minor": 0,
  "metadata": {
    "colab": {
      "provenance": []
    },
    "kernelspec": {
      "name": "python3",
      "display_name": "Python 3"
    },
    "language_info": {
      "name": "python"
    }
  },
  "cells": [
    {
      "cell_type": "code",
      "execution_count": null,
      "metadata": {
        "id": "iJpAPkAARFzs"
      },
      "outputs": [],
      "source": []
    },
    {
      "cell_type": "markdown",
      "source": [
        "\n",
        "\n",
        "DataSet sobre a Universidade Yale\n",
        "\n",
        "* Year Entered - Ano de entrada\n",
        "* Applications - Aplicativos\n",
        "* Admits - Admissões\n",
        "* AdmitRate  - Taxa de admissão\n",
        "* Matriculant - Matriculados\n",
        "* Yiled - Rendimento\n",
        "* VerbalScore\t - Escore Verbal\n",
        "* Verbal10th - Escore verbal 10°\n",
        "* Verbal25th - Escore verbal 25°\n",
        "* Verbal50th - Escore verbal 50\n",
        "* SAT75\t- Cupom eletrônico 75\n",
        "* SAT90 - Cupom eletrônico 90\n",
        "* LegacyCount - Contagem de Legados\n",
        "* NewHaven - Novo paraiso\n",
        "* NewEngland - -Nova Inglaterra\n",
        "* NewYorkState -  Estado de Nova Iorque\n",
        "* EastofMississippi - Leste do Mississippi\n",
        "* WestofMississippi - Oeste do Mississippi\n",
        "* U.S.Poss.Foreign\t- Passe Estrangeiro"
      ],
      "metadata": {
        "id": "JTQJMGgNRHtH"
      }
    },
    {
      "cell_type": "code",
      "source": [
        "# Aqui será a importação das bibliotecas\n",
        "import pandas as pd\n",
        "import matplotlib.pyplot as plt\n",
        "import numpy as np\n",
        "import statsmodels.api as sm"
      ],
      "metadata": {
        "id": "_kKaguJJSvXB"
      },
      "execution_count": null,
      "outputs": []
    },
    {
      "cell_type": "code",
      "source": [
        "# Meu dataset\n",
        "# Importando o arquivo e fazendo upload do arquivo\n",
        "from google.colab import files\n",
        "files.upload()\n",
        "\n",
        "admissoes = pd.read_csv('YaleAdmits.csv')\n",
        "admissoes.head()"
      ],
      "metadata": {
        "colab": {
          "base_uri": "https://localhost:8080/",
          "height": 329
        },
        "id": "MR4IyMEaS98g",
        "outputId": "6b164813-7a35-4b4b-c618-739127de2f37"
      },
      "execution_count": null,
      "outputs": [
        {
          "output_type": "display_data",
          "data": {
            "text/plain": [
              "<IPython.core.display.HTML object>"
            ],
            "text/html": [
              "\n",
              "     <input type=\"file\" id=\"files-43287458-2472-4fea-950c-6b6aec2b73b4\" name=\"files[]\" multiple disabled\n",
              "        style=\"border:none\" />\n",
              "     <output id=\"result-43287458-2472-4fea-950c-6b6aec2b73b4\">\n",
              "      Upload widget is only available when the cell has been executed in the\n",
              "      current browser session. Please rerun this cell to enable.\n",
              "      </output>\n",
              "      <script>// Copyright 2017 Google LLC\n",
              "//\n",
              "// Licensed under the Apache License, Version 2.0 (the \"License\");\n",
              "// you may not use this file except in compliance with the License.\n",
              "// You may obtain a copy of the License at\n",
              "//\n",
              "//      http://www.apache.org/licenses/LICENSE-2.0\n",
              "//\n",
              "// Unless required by applicable law or agreed to in writing, software\n",
              "// distributed under the License is distributed on an \"AS IS\" BASIS,\n",
              "// WITHOUT WARRANTIES OR CONDITIONS OF ANY KIND, either express or implied.\n",
              "// See the License for the specific language governing permissions and\n",
              "// limitations under the License.\n",
              "\n",
              "/**\n",
              " * @fileoverview Helpers for google.colab Python module.\n",
              " */\n",
              "(function(scope) {\n",
              "function span(text, styleAttributes = {}) {\n",
              "  const element = document.createElement('span');\n",
              "  element.textContent = text;\n",
              "  for (const key of Object.keys(styleAttributes)) {\n",
              "    element.style[key] = styleAttributes[key];\n",
              "  }\n",
              "  return element;\n",
              "}\n",
              "\n",
              "// Max number of bytes which will be uploaded at a time.\n",
              "const MAX_PAYLOAD_SIZE = 100 * 1024;\n",
              "\n",
              "function _uploadFiles(inputId, outputId) {\n",
              "  const steps = uploadFilesStep(inputId, outputId);\n",
              "  const outputElement = document.getElementById(outputId);\n",
              "  // Cache steps on the outputElement to make it available for the next call\n",
              "  // to uploadFilesContinue from Python.\n",
              "  outputElement.steps = steps;\n",
              "\n",
              "  return _uploadFilesContinue(outputId);\n",
              "}\n",
              "\n",
              "// This is roughly an async generator (not supported in the browser yet),\n",
              "// where there are multiple asynchronous steps and the Python side is going\n",
              "// to poll for completion of each step.\n",
              "// This uses a Promise to block the python side on completion of each step,\n",
              "// then passes the result of the previous step as the input to the next step.\n",
              "function _uploadFilesContinue(outputId) {\n",
              "  const outputElement = document.getElementById(outputId);\n",
              "  const steps = outputElement.steps;\n",
              "\n",
              "  const next = steps.next(outputElement.lastPromiseValue);\n",
              "  return Promise.resolve(next.value.promise).then((value) => {\n",
              "    // Cache the last promise value to make it available to the next\n",
              "    // step of the generator.\n",
              "    outputElement.lastPromiseValue = value;\n",
              "    return next.value.response;\n",
              "  });\n",
              "}\n",
              "\n",
              "/**\n",
              " * Generator function which is called between each async step of the upload\n",
              " * process.\n",
              " * @param {string} inputId Element ID of the input file picker element.\n",
              " * @param {string} outputId Element ID of the output display.\n",
              " * @return {!Iterable<!Object>} Iterable of next steps.\n",
              " */\n",
              "function* uploadFilesStep(inputId, outputId) {\n",
              "  const inputElement = document.getElementById(inputId);\n",
              "  inputElement.disabled = false;\n",
              "\n",
              "  const outputElement = document.getElementById(outputId);\n",
              "  outputElement.innerHTML = '';\n",
              "\n",
              "  const pickedPromise = new Promise((resolve) => {\n",
              "    inputElement.addEventListener('change', (e) => {\n",
              "      resolve(e.target.files);\n",
              "    });\n",
              "  });\n",
              "\n",
              "  const cancel = document.createElement('button');\n",
              "  inputElement.parentElement.appendChild(cancel);\n",
              "  cancel.textContent = 'Cancel upload';\n",
              "  const cancelPromise = new Promise((resolve) => {\n",
              "    cancel.onclick = () => {\n",
              "      resolve(null);\n",
              "    };\n",
              "  });\n",
              "\n",
              "  // Wait for the user to pick the files.\n",
              "  const files = yield {\n",
              "    promise: Promise.race([pickedPromise, cancelPromise]),\n",
              "    response: {\n",
              "      action: 'starting',\n",
              "    }\n",
              "  };\n",
              "\n",
              "  cancel.remove();\n",
              "\n",
              "  // Disable the input element since further picks are not allowed.\n",
              "  inputElement.disabled = true;\n",
              "\n",
              "  if (!files) {\n",
              "    return {\n",
              "      response: {\n",
              "        action: 'complete',\n",
              "      }\n",
              "    };\n",
              "  }\n",
              "\n",
              "  for (const file of files) {\n",
              "    const li = document.createElement('li');\n",
              "    li.append(span(file.name, {fontWeight: 'bold'}));\n",
              "    li.append(span(\n",
              "        `(${file.type || 'n/a'}) - ${file.size} bytes, ` +\n",
              "        `last modified: ${\n",
              "            file.lastModifiedDate ? file.lastModifiedDate.toLocaleDateString() :\n",
              "                                    'n/a'} - `));\n",
              "    const percent = span('0% done');\n",
              "    li.appendChild(percent);\n",
              "\n",
              "    outputElement.appendChild(li);\n",
              "\n",
              "    const fileDataPromise = new Promise((resolve) => {\n",
              "      const reader = new FileReader();\n",
              "      reader.onload = (e) => {\n",
              "        resolve(e.target.result);\n",
              "      };\n",
              "      reader.readAsArrayBuffer(file);\n",
              "    });\n",
              "    // Wait for the data to be ready.\n",
              "    let fileData = yield {\n",
              "      promise: fileDataPromise,\n",
              "      response: {\n",
              "        action: 'continue',\n",
              "      }\n",
              "    };\n",
              "\n",
              "    // Use a chunked sending to avoid message size limits. See b/62115660.\n",
              "    let position = 0;\n",
              "    do {\n",
              "      const length = Math.min(fileData.byteLength - position, MAX_PAYLOAD_SIZE);\n",
              "      const chunk = new Uint8Array(fileData, position, length);\n",
              "      position += length;\n",
              "\n",
              "      const base64 = btoa(String.fromCharCode.apply(null, chunk));\n",
              "      yield {\n",
              "        response: {\n",
              "          action: 'append',\n",
              "          file: file.name,\n",
              "          data: base64,\n",
              "        },\n",
              "      };\n",
              "\n",
              "      let percentDone = fileData.byteLength === 0 ?\n",
              "          100 :\n",
              "          Math.round((position / fileData.byteLength) * 100);\n",
              "      percent.textContent = `${percentDone}% done`;\n",
              "\n",
              "    } while (position < fileData.byteLength);\n",
              "  }\n",
              "\n",
              "  // All done.\n",
              "  yield {\n",
              "    response: {\n",
              "      action: 'complete',\n",
              "    }\n",
              "  };\n",
              "}\n",
              "\n",
              "scope.google = scope.google || {};\n",
              "scope.google.colab = scope.google.colab || {};\n",
              "scope.google.colab._files = {\n",
              "  _uploadFiles,\n",
              "  _uploadFilesContinue,\n",
              "};\n",
              "})(self);\n",
              "</script> "
            ]
          },
          "metadata": {}
        },
        {
          "output_type": "stream",
          "name": "stdout",
          "text": [
            "Saving YaleAdmits.csv to YaleAdmits (1).csv\n"
          ]
        },
        {
          "output_type": "execute_result",
          "data": {
            "text/plain": [
              "   Year Entered  Applications  Admits  AdmitRate  Matriculant  Yield  \\\n",
              "0          1986         12528    2269      0.181         1291  0.569   \n",
              "1          1987         13063    2310      0.177         1312  0.568   \n",
              "2          1988         12797    2370      0.185         1275  0.538   \n",
              "3          1989         12063    2264      0.188         1279  0.565   \n",
              "4          1990         11922    2354      0.197         1366  0.580   \n",
              "\n",
              "  VerbalScore  Verbal10th  Verbal25th  Verbal50th  ...  SAT75  SAT90  \\\n",
              "0      Verbal         560         610         670  ...   1450   1510   \n",
              "1      Verbal         550         610         660  ...   1450   1510   \n",
              "2      Verbal         550         610         660  ...   1450   1520   \n",
              "3      Verbal         550         600         670  ...   1450   1510   \n",
              "4      Verbal         550         610         670  ...   1460   1520   \n",
              "\n",
              "  LegacyCount  NewHaven  NewEngland  NewYorkState  EastofMississippi  \\\n",
              "0         204        19         226           263                448   \n",
              "1         215        12         233           236                468   \n",
              "2         191         6         228           243                451   \n",
              "3         184        12         213           236                446   \n",
              "4         157        10         217           242                474   \n",
              "\n",
              "   WestofMississippi  U.S.Poss.Foreign  Total  \n",
              "0                278                57   1291  \n",
              "1                295                68   1312  \n",
              "2                281                66   1275  \n",
              "3                306                66   1279  \n",
              "4                347                76   1366  \n",
              "\n",
              "[5 rows x 31 columns]"
            ],
            "text/html": [
              "\n",
              "  <div id=\"df-2dc9dd84-5882-4bc7-8122-3bbbe2f4ced7\" class=\"colab-df-container\">\n",
              "    <div>\n",
              "<style scoped>\n",
              "    .dataframe tbody tr th:only-of-type {\n",
              "        vertical-align: middle;\n",
              "    }\n",
              "\n",
              "    .dataframe tbody tr th {\n",
              "        vertical-align: top;\n",
              "    }\n",
              "\n",
              "    .dataframe thead th {\n",
              "        text-align: right;\n",
              "    }\n",
              "</style>\n",
              "<table border=\"1\" class=\"dataframe\">\n",
              "  <thead>\n",
              "    <tr style=\"text-align: right;\">\n",
              "      <th></th>\n",
              "      <th>Year Entered</th>\n",
              "      <th>Applications</th>\n",
              "      <th>Admits</th>\n",
              "      <th>AdmitRate</th>\n",
              "      <th>Matriculant</th>\n",
              "      <th>Yield</th>\n",
              "      <th>VerbalScore</th>\n",
              "      <th>Verbal10th</th>\n",
              "      <th>Verbal25th</th>\n",
              "      <th>Verbal50th</th>\n",
              "      <th>...</th>\n",
              "      <th>SAT75</th>\n",
              "      <th>SAT90</th>\n",
              "      <th>LegacyCount</th>\n",
              "      <th>NewHaven</th>\n",
              "      <th>NewEngland</th>\n",
              "      <th>NewYorkState</th>\n",
              "      <th>EastofMississippi</th>\n",
              "      <th>WestofMississippi</th>\n",
              "      <th>U.S.Poss.Foreign</th>\n",
              "      <th>Total</th>\n",
              "    </tr>\n",
              "  </thead>\n",
              "  <tbody>\n",
              "    <tr>\n",
              "      <th>0</th>\n",
              "      <td>1986</td>\n",
              "      <td>12528</td>\n",
              "      <td>2269</td>\n",
              "      <td>0.181</td>\n",
              "      <td>1291</td>\n",
              "      <td>0.569</td>\n",
              "      <td>Verbal</td>\n",
              "      <td>560</td>\n",
              "      <td>610</td>\n",
              "      <td>670</td>\n",
              "      <td>...</td>\n",
              "      <td>1450</td>\n",
              "      <td>1510</td>\n",
              "      <td>204</td>\n",
              "      <td>19</td>\n",
              "      <td>226</td>\n",
              "      <td>263</td>\n",
              "      <td>448</td>\n",
              "      <td>278</td>\n",
              "      <td>57</td>\n",
              "      <td>1291</td>\n",
              "    </tr>\n",
              "    <tr>\n",
              "      <th>1</th>\n",
              "      <td>1987</td>\n",
              "      <td>13063</td>\n",
              "      <td>2310</td>\n",
              "      <td>0.177</td>\n",
              "      <td>1312</td>\n",
              "      <td>0.568</td>\n",
              "      <td>Verbal</td>\n",
              "      <td>550</td>\n",
              "      <td>610</td>\n",
              "      <td>660</td>\n",
              "      <td>...</td>\n",
              "      <td>1450</td>\n",
              "      <td>1510</td>\n",
              "      <td>215</td>\n",
              "      <td>12</td>\n",
              "      <td>233</td>\n",
              "      <td>236</td>\n",
              "      <td>468</td>\n",
              "      <td>295</td>\n",
              "      <td>68</td>\n",
              "      <td>1312</td>\n",
              "    </tr>\n",
              "    <tr>\n",
              "      <th>2</th>\n",
              "      <td>1988</td>\n",
              "      <td>12797</td>\n",
              "      <td>2370</td>\n",
              "      <td>0.185</td>\n",
              "      <td>1275</td>\n",
              "      <td>0.538</td>\n",
              "      <td>Verbal</td>\n",
              "      <td>550</td>\n",
              "      <td>610</td>\n",
              "      <td>660</td>\n",
              "      <td>...</td>\n",
              "      <td>1450</td>\n",
              "      <td>1520</td>\n",
              "      <td>191</td>\n",
              "      <td>6</td>\n",
              "      <td>228</td>\n",
              "      <td>243</td>\n",
              "      <td>451</td>\n",
              "      <td>281</td>\n",
              "      <td>66</td>\n",
              "      <td>1275</td>\n",
              "    </tr>\n",
              "    <tr>\n",
              "      <th>3</th>\n",
              "      <td>1989</td>\n",
              "      <td>12063</td>\n",
              "      <td>2264</td>\n",
              "      <td>0.188</td>\n",
              "      <td>1279</td>\n",
              "      <td>0.565</td>\n",
              "      <td>Verbal</td>\n",
              "      <td>550</td>\n",
              "      <td>600</td>\n",
              "      <td>670</td>\n",
              "      <td>...</td>\n",
              "      <td>1450</td>\n",
              "      <td>1510</td>\n",
              "      <td>184</td>\n",
              "      <td>12</td>\n",
              "      <td>213</td>\n",
              "      <td>236</td>\n",
              "      <td>446</td>\n",
              "      <td>306</td>\n",
              "      <td>66</td>\n",
              "      <td>1279</td>\n",
              "    </tr>\n",
              "    <tr>\n",
              "      <th>4</th>\n",
              "      <td>1990</td>\n",
              "      <td>11922</td>\n",
              "      <td>2354</td>\n",
              "      <td>0.197</td>\n",
              "      <td>1366</td>\n",
              "      <td>0.580</td>\n",
              "      <td>Verbal</td>\n",
              "      <td>550</td>\n",
              "      <td>610</td>\n",
              "      <td>670</td>\n",
              "      <td>...</td>\n",
              "      <td>1460</td>\n",
              "      <td>1520</td>\n",
              "      <td>157</td>\n",
              "      <td>10</td>\n",
              "      <td>217</td>\n",
              "      <td>242</td>\n",
              "      <td>474</td>\n",
              "      <td>347</td>\n",
              "      <td>76</td>\n",
              "      <td>1366</td>\n",
              "    </tr>\n",
              "  </tbody>\n",
              "</table>\n",
              "<p>5 rows × 31 columns</p>\n",
              "</div>\n",
              "    <div class=\"colab-df-buttons\">\n",
              "\n",
              "  <div class=\"colab-df-container\">\n",
              "    <button class=\"colab-df-convert\" onclick=\"convertToInteractive('df-2dc9dd84-5882-4bc7-8122-3bbbe2f4ced7')\"\n",
              "            title=\"Convert this dataframe to an interactive table.\"\n",
              "            style=\"display:none;\">\n",
              "\n",
              "  <svg xmlns=\"http://www.w3.org/2000/svg\" height=\"24px\" viewBox=\"0 -960 960 960\">\n",
              "    <path d=\"M120-120v-720h720v720H120Zm60-500h600v-160H180v160Zm220 220h160v-160H400v160Zm0 220h160v-160H400v160ZM180-400h160v-160H180v160Zm440 0h160v-160H620v160ZM180-180h160v-160H180v160Zm440 0h160v-160H620v160Z\"/>\n",
              "  </svg>\n",
              "    </button>\n",
              "\n",
              "  <style>\n",
              "    .colab-df-container {\n",
              "      display:flex;\n",
              "      gap: 12px;\n",
              "    }\n",
              "\n",
              "    .colab-df-convert {\n",
              "      background-color: #E8F0FE;\n",
              "      border: none;\n",
              "      border-radius: 50%;\n",
              "      cursor: pointer;\n",
              "      display: none;\n",
              "      fill: #1967D2;\n",
              "      height: 32px;\n",
              "      padding: 0 0 0 0;\n",
              "      width: 32px;\n",
              "    }\n",
              "\n",
              "    .colab-df-convert:hover {\n",
              "      background-color: #E2EBFA;\n",
              "      box-shadow: 0px 1px 2px rgba(60, 64, 67, 0.3), 0px 1px 3px 1px rgba(60, 64, 67, 0.15);\n",
              "      fill: #174EA6;\n",
              "    }\n",
              "\n",
              "    .colab-df-buttons div {\n",
              "      margin-bottom: 4px;\n",
              "    }\n",
              "\n",
              "    [theme=dark] .colab-df-convert {\n",
              "      background-color: #3B4455;\n",
              "      fill: #D2E3FC;\n",
              "    }\n",
              "\n",
              "    [theme=dark] .colab-df-convert:hover {\n",
              "      background-color: #434B5C;\n",
              "      box-shadow: 0px 1px 3px 1px rgba(0, 0, 0, 0.15);\n",
              "      filter: drop-shadow(0px 1px 2px rgba(0, 0, 0, 0.3));\n",
              "      fill: #FFFFFF;\n",
              "    }\n",
              "  </style>\n",
              "\n",
              "    <script>\n",
              "      const buttonEl =\n",
              "        document.querySelector('#df-2dc9dd84-5882-4bc7-8122-3bbbe2f4ced7 button.colab-df-convert');\n",
              "      buttonEl.style.display =\n",
              "        google.colab.kernel.accessAllowed ? 'block' : 'none';\n",
              "\n",
              "      async function convertToInteractive(key) {\n",
              "        const element = document.querySelector('#df-2dc9dd84-5882-4bc7-8122-3bbbe2f4ced7');\n",
              "        const dataTable =\n",
              "          await google.colab.kernel.invokeFunction('convertToInteractive',\n",
              "                                                    [key], {});\n",
              "        if (!dataTable) return;\n",
              "\n",
              "        const docLinkHtml = 'Like what you see? Visit the ' +\n",
              "          '<a target=\"_blank\" href=https://colab.research.google.com/notebooks/data_table.ipynb>data table notebook</a>'\n",
              "          + ' to learn more about interactive tables.';\n",
              "        element.innerHTML = '';\n",
              "        dataTable['output_type'] = 'display_data';\n",
              "        await google.colab.output.renderOutput(dataTable, element);\n",
              "        const docLink = document.createElement('div');\n",
              "        docLink.innerHTML = docLinkHtml;\n",
              "        element.appendChild(docLink);\n",
              "      }\n",
              "    </script>\n",
              "  </div>\n",
              "\n",
              "\n",
              "<div id=\"df-d4b0b4b7-6c03-4375-b499-16a59065d395\">\n",
              "  <button class=\"colab-df-quickchart\" onclick=\"quickchart('df-d4b0b4b7-6c03-4375-b499-16a59065d395')\"\n",
              "            title=\"Suggest charts.\"\n",
              "            style=\"display:none;\">\n",
              "\n",
              "<svg xmlns=\"http://www.w3.org/2000/svg\" height=\"24px\"viewBox=\"0 0 24 24\"\n",
              "     width=\"24px\">\n",
              "    <g>\n",
              "        <path d=\"M19 3H5c-1.1 0-2 .9-2 2v14c0 1.1.9 2 2 2h14c1.1 0 2-.9 2-2V5c0-1.1-.9-2-2-2zM9 17H7v-7h2v7zm4 0h-2V7h2v10zm4 0h-2v-4h2v4z\"/>\n",
              "    </g>\n",
              "</svg>\n",
              "  </button>\n",
              "\n",
              "<style>\n",
              "  .colab-df-quickchart {\n",
              "      --bg-color: #E8F0FE;\n",
              "      --fill-color: #1967D2;\n",
              "      --hover-bg-color: #E2EBFA;\n",
              "      --hover-fill-color: #174EA6;\n",
              "      --disabled-fill-color: #AAA;\n",
              "      --disabled-bg-color: #DDD;\n",
              "  }\n",
              "\n",
              "  [theme=dark] .colab-df-quickchart {\n",
              "      --bg-color: #3B4455;\n",
              "      --fill-color: #D2E3FC;\n",
              "      --hover-bg-color: #434B5C;\n",
              "      --hover-fill-color: #FFFFFF;\n",
              "      --disabled-bg-color: #3B4455;\n",
              "      --disabled-fill-color: #666;\n",
              "  }\n",
              "\n",
              "  .colab-df-quickchart {\n",
              "    background-color: var(--bg-color);\n",
              "    border: none;\n",
              "    border-radius: 50%;\n",
              "    cursor: pointer;\n",
              "    display: none;\n",
              "    fill: var(--fill-color);\n",
              "    height: 32px;\n",
              "    padding: 0;\n",
              "    width: 32px;\n",
              "  }\n",
              "\n",
              "  .colab-df-quickchart:hover {\n",
              "    background-color: var(--hover-bg-color);\n",
              "    box-shadow: 0 1px 2px rgba(60, 64, 67, 0.3), 0 1px 3px 1px rgba(60, 64, 67, 0.15);\n",
              "    fill: var(--button-hover-fill-color);\n",
              "  }\n",
              "\n",
              "  .colab-df-quickchart-complete:disabled,\n",
              "  .colab-df-quickchart-complete:disabled:hover {\n",
              "    background-color: var(--disabled-bg-color);\n",
              "    fill: var(--disabled-fill-color);\n",
              "    box-shadow: none;\n",
              "  }\n",
              "\n",
              "  .colab-df-spinner {\n",
              "    border: 2px solid var(--fill-color);\n",
              "    border-color: transparent;\n",
              "    border-bottom-color: var(--fill-color);\n",
              "    animation:\n",
              "      spin 1s steps(1) infinite;\n",
              "  }\n",
              "\n",
              "  @keyframes spin {\n",
              "    0% {\n",
              "      border-color: transparent;\n",
              "      border-bottom-color: var(--fill-color);\n",
              "      border-left-color: var(--fill-color);\n",
              "    }\n",
              "    20% {\n",
              "      border-color: transparent;\n",
              "      border-left-color: var(--fill-color);\n",
              "      border-top-color: var(--fill-color);\n",
              "    }\n",
              "    30% {\n",
              "      border-color: transparent;\n",
              "      border-left-color: var(--fill-color);\n",
              "      border-top-color: var(--fill-color);\n",
              "      border-right-color: var(--fill-color);\n",
              "    }\n",
              "    40% {\n",
              "      border-color: transparent;\n",
              "      border-right-color: var(--fill-color);\n",
              "      border-top-color: var(--fill-color);\n",
              "    }\n",
              "    60% {\n",
              "      border-color: transparent;\n",
              "      border-right-color: var(--fill-color);\n",
              "    }\n",
              "    80% {\n",
              "      border-color: transparent;\n",
              "      border-right-color: var(--fill-color);\n",
              "      border-bottom-color: var(--fill-color);\n",
              "    }\n",
              "    90% {\n",
              "      border-color: transparent;\n",
              "      border-bottom-color: var(--fill-color);\n",
              "    }\n",
              "  }\n",
              "</style>\n",
              "\n",
              "  <script>\n",
              "    async function quickchart(key) {\n",
              "      const quickchartButtonEl =\n",
              "        document.querySelector('#' + key + ' button');\n",
              "      quickchartButtonEl.disabled = true;  // To prevent multiple clicks.\n",
              "      quickchartButtonEl.classList.add('colab-df-spinner');\n",
              "      try {\n",
              "        const charts = await google.colab.kernel.invokeFunction(\n",
              "            'suggestCharts', [key], {});\n",
              "      } catch (error) {\n",
              "        console.error('Error during call to suggestCharts:', error);\n",
              "      }\n",
              "      quickchartButtonEl.classList.remove('colab-df-spinner');\n",
              "      quickchartButtonEl.classList.add('colab-df-quickchart-complete');\n",
              "    }\n",
              "    (() => {\n",
              "      let quickchartButtonEl =\n",
              "        document.querySelector('#df-d4b0b4b7-6c03-4375-b499-16a59065d395 button');\n",
              "      quickchartButtonEl.style.display =\n",
              "        google.colab.kernel.accessAllowed ? 'block' : 'none';\n",
              "    })();\n",
              "  </script>\n",
              "</div>\n",
              "    </div>\n",
              "  </div>\n"
            ]
          },
          "metadata": {},
          "execution_count": 97
        }
      ]
    },
    {
      "cell_type": "markdown",
      "source": [
        "Como faço para ter a média de todos os matriculados e também sobre admissões nessa universidade logo acia?\n",
        "\n"
      ],
      "metadata": {
        "id": "WufTzY9Vr16x"
      }
    },
    {
      "cell_type": "code",
      "source": [
        "# Matriculados\n",
        "media_matriculados = admissoes['Matriculant'].mean()\n",
        "print(\"Média dos Matriculados: \", media_matriculados)\n",
        "\n",
        "# Admissões\n",
        "media_admissoes = admissoes['Admits'].mean()\n",
        "print(\"Média dos Admitidos: \", media_admissoes)"
      ],
      "metadata": {
        "colab": {
          "base_uri": "https://localhost:8080/"
        },
        "id": "__LxztHAr3iY",
        "outputId": "dcbfa2e3-e8c6-49cb-bd3c-3dc9139f7505"
      },
      "execution_count": null,
      "outputs": [
        {
          "output_type": "stream",
          "name": "stdout",
          "text": [
            "Média dos Matriculados:  1365.3513513513512\n",
            "Média dos Admitidos:  2170.2972972972975\n"
          ]
        }
      ]
    },
    {
      "cell_type": "markdown",
      "source": [
        "Qual seria a mediana entre os matriculados, admitidos e também a mediana do estado de nova york ?"
      ],
      "metadata": {
        "id": "7ap6Fal4tVqJ"
      }
    },
    {
      "cell_type": "code",
      "source": [
        "# Mediana dos matriculados\n",
        "mediana_matriculados = admissoes['Matriculant'].median()\n",
        "print(\"Mediana dos matriculados: \" , mediana_matriculados)\n",
        "\n",
        "# Mediana dos admitidos\n",
        "mediana_admitidos = admissoes['Admits'].median()\n",
        "print(\"Mediana dos Admitidos: \" , mediana_admitidos)\n",
        "\n",
        "#Mediana do estado de Nova York\n",
        "mediana_ny = admissoes['NewYorkState'].median()\n",
        "print(\"Mediana do Estado de Nova York: \" , mediana_ny)\n",
        "\n"
      ],
      "metadata": {
        "colab": {
          "base_uri": "https://localhost:8080/"
        },
        "id": "s-bpzKOmtahC",
        "outputId": "f1572dc5-951f-4eeb-e812-b5723cd892f8"
      },
      "execution_count": null,
      "outputs": [
        {
          "output_type": "stream",
          "name": "stdout",
          "text": [
            "Mediana dos matriculados:  1326.0\n",
            "Mediana dos Admitidos:  2135.0\n",
            "Mediana do Estado de Nova York:  199.0\n"
          ]
        }
      ]
    },
    {
      "cell_type": "markdown",
      "source": [
        "Como posso estar verificando o desvio padrão dos aplicativos ?\n",
        "\n",
        "\n"
      ],
      "metadata": {
        "id": "S1NFGzHIto45"
      }
    },
    {
      "cell_type": "code",
      "source": [
        "desvio_padrao_aplicativos = admissoes['Applications'].std()\n",
        "print(\"Desvio padrão:  \" ,desvio_padrao_aplicativos )"
      ],
      "metadata": {
        "colab": {
          "base_uri": "https://localhost:8080/"
        },
        "id": "oq-8tWgNttqw",
        "outputId": "ce0c93df-db74-4ded-88a6-3c804961af14"
      },
      "execution_count": null,
      "outputs": [
        {
          "output_type": "stream",
          "name": "stdout",
          "text": [
            "Desvio padrão:   10651.581131061792\n"
          ]
        }
      ]
    },
    {
      "cell_type": "markdown",
      "source": [
        "Qual seria a moda amostral dos matriculados?"
      ],
      "metadata": {
        "id": "BQGEh26Nt2eA"
      }
    },
    {
      "cell_type": "code",
      "source": [
        "moda_matriculados = admissoes['Matriculant'].mode()\n",
        "print(moda_matriculados)\n"
      ],
      "metadata": {
        "colab": {
          "base_uri": "https://localhost:8080/"
        },
        "id": "iE-Ovr4nt3ZR",
        "outputId": "f1cee58c-633b-47df-a258-e8b5a04b508c"
      },
      "execution_count": null,
      "outputs": [
        {
          "output_type": "stream",
          "name": "stdout",
          "text": [
            "0    1307\n",
            "1    1308\n",
            "2    1320\n",
            "3    1364\n",
            "4    1371\n",
            "Name: Matriculant, dtype: int64\n"
          ]
        }
      ]
    },
    {
      "cell_type": "code",
      "source": [
        "# Correlação 1 ADMISSOES E MATRICULADOS\n",
        "corr1 = np.corrcoef(admissoes['Admits'], admissoes['Matriculant'])[0,1]\n",
        "\n",
        "print(corr1)"
      ],
      "metadata": {
        "colab": {
          "base_uri": "https://localhost:8080/"
        },
        "id": "LumA6VgRXgya",
        "outputId": "4ef611ee-faa4-4765-d9f6-6d4da4688927"
      },
      "execution_count": null,
      "outputs": [
        {
          "output_type": "stream",
          "name": "stdout",
          "text": [
            "0.29732489339394197\n"
          ]
        }
      ]
    },
    {
      "cell_type": "code",
      "source": [
        "# Correlação 2 APLICATIVOS E  RENDIMENTO\n",
        "corr2 = np.corrcoef(admissoes['Applications'],admissoes['Yield'])[0,1]\n",
        "print(corr2)"
      ],
      "metadata": {
        "colab": {
          "base_uri": "https://localhost:8080/"
        },
        "id": "uHmDCR0vXeaw",
        "outputId": "9fb23628-dfc5-4638-9a5e-8b1d8998a691"
      },
      "execution_count": null,
      "outputs": [
        {
          "output_type": "stream",
          "name": "stdout",
          "text": [
            "0.6417032976330213\n"
          ]
        }
      ]
    },
    {
      "cell_type": "code",
      "source": [
        "# Correlação 3  TAXA DE ADMISSAO E ADMISSOES\n",
        "corr3 = np.corrcoef(admissoes['AdmitRate'],admissoes['Admits'])[0,1]\n",
        "print(corr3)"
      ],
      "metadata": {
        "colab": {
          "base_uri": "https://localhost:8080/"
        },
        "id": "FCMNkq3OXcRB",
        "outputId": "b913b86b-90d5-4c35-d018-7b710dd2cdb7"
      },
      "execution_count": null,
      "outputs": [
        {
          "output_type": "stream",
          "name": "stdout",
          "text": [
            "0.5296629319010456\n"
          ]
        }
      ]
    },
    {
      "cell_type": "code",
      "source": [
        "# Correlação 4   CONTAGEM DE LEGADO E ADMISSOES\n",
        "corr4 = np.corrcoef(admissoes['LegacyCount'],admissoes['Admits'])[0,1]\n",
        "print(corr4)"
      ],
      "metadata": {
        "colab": {
          "base_uri": "https://localhost:8080/"
        },
        "id": "ghaCG84sXsET",
        "outputId": "4ed339f3-8802-47b3-f938-e0deaf44be53"
      },
      "execution_count": null,
      "outputs": [
        {
          "output_type": "stream",
          "name": "stdout",
          "text": [
            "0.009013295950531588\n"
          ]
        }
      ]
    },
    {
      "cell_type": "code",
      "source": [
        "# Correlação 5    ANO DE ENTRADA E MATRICULADOS\n",
        "corr5 = np.corrcoef(admissoes['Year Entered'],admissoes['Matriculant'])[0,1]\n",
        "print(corr5)"
      ],
      "metadata": {
        "colab": {
          "base_uri": "https://localhost:8080/"
        },
        "id": "i4wukdlBXuQZ",
        "outputId": "1086f790-33aa-439b-fb81-da6d4bf3152a"
      },
      "execution_count": null,
      "outputs": [
        {
          "output_type": "stream",
          "name": "stdout",
          "text": [
            "0.5872705563445637\n"
          ]
        }
      ]
    },
    {
      "cell_type": "code",
      "source": [
        "# Correlação 6    NOVO PARAISO E RENDIMENTO\n",
        "corr6 = np.corrcoef(admissoes['NewHaven'],admissoes['Yield'])[0,1]\n",
        "print(corr6)"
      ],
      "metadata": {
        "colab": {
          "base_uri": "https://localhost:8080/"
        },
        "id": "3ZR2_iqMXvW4",
        "outputId": "1a26989e-d9c4-4293-be06-5a499aa56d29"
      },
      "execution_count": null,
      "outputs": [
        {
          "output_type": "stream",
          "name": "stdout",
          "text": [
            "0.23383197019917054\n"
          ]
        }
      ]
    },
    {
      "cell_type": "code",
      "source": [
        "# Correlação 6    CONTAGEM DE LEGADO E  MATRICULADOS\n",
        "corr6 = np.corrcoef(admissoes['LegacyCount'],admissoes['Matriculant'])[0,1]\n",
        "print(corr6)"
      ],
      "metadata": {
        "colab": {
          "base_uri": "https://localhost:8080/"
        },
        "id": "O2cKE4i16Ll5",
        "outputId": "358b1aed-0111-4eb3-ed87-523ff085a619"
      },
      "execution_count": null,
      "outputs": [
        {
          "output_type": "stream",
          "name": "stdout",
          "text": [
            "0.1253328882075785\n"
          ]
        }
      ]
    },
    {
      "cell_type": "code",
      "source": [
        "# Correlação 6    APLICATIVOS E   MATRICULADOS\n",
        "corr6 = np.corrcoef(admissoes['Applications'],admissoes['Matriculant'])[0,1]\n",
        "print(corr6)"
      ],
      "metadata": {
        "colab": {
          "base_uri": "https://localhost:8080/"
        },
        "id": "0EVmmTbs6YhZ",
        "outputId": "cfd72113-0c2a-4a6c-c9d3-6a0e146dae6e"
      },
      "execution_count": null,
      "outputs": [
        {
          "output_type": "stream",
          "name": "stdout",
          "text": [
            "0.7114629068185525\n"
          ]
        }
      ]
    },
    {
      "cell_type": "markdown",
      "source": [
        "Qual é a relação entre os matriculados e sobre o rendimento da universidade? Poderíamos verificar um gráfico sobre ?"
      ],
      "metadata": {
        "id": "AuRG5q09YI9Y"
      }
    },
    {
      "cell_type": "code",
      "source": [
        "plt.scatter(admissoes['Matriculant'],admissoes['Yield'])\n",
        "plt.title('Relação entre os Matriculados e o Rendimento da Universidade')\n",
        "plt.xlabel('Matr Universidade (Matriculant)')\n",
        "plt.ylabel('Rendimento (Yield)')\n",
        "\n",
        "plt.show()"
      ],
      "metadata": {
        "colab": {
          "base_uri": "https://localhost:8080/",
          "height": 472
        },
        "id": "iPaRvbN4YL5p",
        "outputId": "2cdc2e8a-d048-4588-87e3-0682d5451f3f"
      },
      "execution_count": null,
      "outputs": [
        {
          "output_type": "display_data",
          "data": {
            "text/plain": [
              "<Figure size 640x480 with 1 Axes>"
            ],
            "image/png": "[encoded data removed]"
          },
          "metadata": {}
        }
      ]
    },
    {
      "cell_type": "markdown",
      "source": [
        "Existe alguma relação entre a Admissão e o ano de entrada?"
      ],
      "metadata": {
        "id": "njE7_FBky754"
      }
    },
    {
      "cell_type": "code",
      "source": [
        "LegacyCount = admissoes[['LegacyCount']]\n",
        "Matriculant = admissoes['Matriculant']\n",
        "# Adicionar uma constante para a regressão linear\n",
        "Admits = sm.add_constant(Admits)\n",
        "# Modelo de regressão\n",
        "modelo = sm.OLS(LegacyCount,Matriculant).fit()\n",
        "print(modelo.summary())"
      ],
      "metadata": {
        "colab": {
          "base_uri": "https://localhost:8080/"
        },
        "id": "9TowkOmiy-zA",
        "outputId": "1e5ee698-c255-4ac6-b0c0-15dd5619e512"
      },
      "execution_count": null,
      "outputs": [
        {
          "output_type": "stream",
          "name": "stdout",
          "text": [
            "                                 OLS Regression Results                                \n",
            "=======================================================================================\n",
            "Dep. Variable:            LegacyCount   R-squared (uncentered):                   0.968\n",
            "Model:                            OLS   Adj. R-squared (uncentered):              0.967\n",
            "Method:                 Least Squares   F-statistic:                              1099.\n",
            "Date:                Mon, 06 Nov 2023   Prob (F-statistic):                    1.42e-28\n",
            "Time:                        13:27:11   Log-Likelihood:                         -174.32\n",
            "No. Observations:                  37   AIC:                                      350.6\n",
            "Df Residuals:                      36   BIC:                                      352.3\n",
            "Df Model:                           1                                                  \n",
            "Covariance Type:            nonrobust                                                  \n",
            "===============================================================================\n",
            "                  coef    std err          t      P>|t|      [0.025      0.975]\n",
            "-------------------------------------------------------------------------------\n",
            "Matriculant     0.1086      0.003     33.148      0.000       0.102       0.115\n",
            "==============================================================================\n",
            "Omnibus:                        5.665   Durbin-Watson:                   0.469\n",
            "Prob(Omnibus):                  0.059   Jarque-Bera (JB):                4.250\n",
            "Skew:                           0.765   Prob(JB):                        0.119\n",
            "Kurtosis:                       3.647   Cond. No.                         1.00\n",
            "==============================================================================\n",
            "\n",
            "Notes:\n",
            "[1] R² is computed without centering (uncentered) since the model does not contain a constant.\n",
            "[2] Standard Errors assume that the covariance matrix of the errors is correctly specified.\n"
          ]
        }
      ]
    },
    {
      "cell_type": "code",
      "source": [
        "# Análise regressão linear com correlação forte\n",
        "\n",
        "Applications = admissoes[['Applications']]\n",
        "Matriculant = admissoes['Matriculant']\n",
        "# Adicionar uma constante para a regressão linear\n",
        "Applications = sm.add_constant(Applications)\n",
        "# Modelo de regressão\n",
        "modelo = sm.OLS(Matriculant,Applications).fit()\n",
        "print(modelo.summary())"
      ],
      "metadata": {
        "colab": {
          "base_uri": "https://localhost:8080/"
        },
        "id": "1mezi8x75fzB",
        "outputId": "dbeb9062-cb51-4eb2-80fe-f944acd5a778"
      },
      "execution_count": null,
      "outputs": [
        {
          "output_type": "stream",
          "name": "stdout",
          "text": [
            "                            OLS Regression Results                            \n",
            "==============================================================================\n",
            "Dep. Variable:            Matriculant   R-squared:                       0.506\n",
            "Model:                            OLS   Adj. R-squared:                  0.492\n",
            "Method:                 Least Squares   F-statistic:                     35.88\n",
            "Date:                Mon, 06 Nov 2023   Prob (F-statistic):           7.97e-07\n",
            "Time:                        13:57:20   Log-Likelihood:                -212.09\n",
            "No. Observations:                  37   AIC:                             428.2\n",
            "Df Residuals:                      35   BIC:                             431.4\n",
            "Df Model:                           1                                         \n",
            "Covariance Type:            nonrobust                                         \n",
            "================================================================================\n",
            "                   coef    std err          t      P>|t|      [0.025      0.975]\n",
            "--------------------------------------------------------------------------------\n",
            "const         1209.3902     28.937     41.794      0.000    1150.646    1268.135\n",
            "Applications     0.0072      0.001      5.990      0.000       0.005       0.010\n",
            "==============================================================================\n",
            "Omnibus:                        7.322   Durbin-Watson:                   2.025\n",
            "Prob(Omnibus):                  0.026   Jarque-Bera (JB):                7.363\n",
            "Skew:                           0.584   Prob(JB):                       0.0252\n",
            "Kurtosis:                       4.847   Cond. No.                     5.52e+04\n",
            "==============================================================================\n",
            "\n",
            "Notes:\n",
            "[1] Standard Errors assume that the covariance matrix of the errors is correctly specified.\n",
            "[2] The condition number is large, 5.52e+04. This might indicate that there are\n",
            "strong multicollinearity or other numerical problems.\n"
          ]
        }
      ]
    },
    {
      "cell_type": "code",
      "source": [
        "\n",
        "!jupyter nbconvert --to html atividade.ipynb"
      ],
      "metadata": {
        "colab": {
          "base_uri": "https://localhost:8080/"
        },
        "id": "sw1Pjs3kYT8R",
        "outputId": "7bcd6e1a-898e-44ef-a784-3ffe7785b9ce"
      },
      "execution_count": null,
      "outputs": [
        {
          "output_type": "stream",
          "name": "stdout",
          "text": [
            "[NbConvertApp] Converting notebook atividade.ipynb to html\n",
            "[NbConvertApp] Writing 669529 bytes to atividade.html\n"
          ]
        }
      ]
    }
  ]
}